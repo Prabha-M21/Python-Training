{
  "nbformat": 4,
  "nbformat_minor": 0,
  "metadata": {
    "colab": {
      "provenance": []
    },
    "kernelspec": {
      "name": "python3",
      "display_name": "Python 3"
    },
    "language_info": {
      "name": "python"
    }
  },
  "cells": [
    {
      "cell_type": "code",
      "execution_count": null,
      "metadata": {
        "colab": {
          "base_uri": "https://localhost:8080/",
          "height": 141
        },
        "id": "fooBKl8FmcO4",
        "outputId": "2c2d67e8-e943-4afd-d46b-1b04919f4960"
      },
      "outputs": [
        {
          "output_type": "error",
          "ename": "NameError",
          "evalue": "name 'prit' is not defined",
          "traceback": [
            "\u001b[0;31m---------------------------------------------------------------------------\u001b[0m",
            "\u001b[0;31mNameError\u001b[0m                                 Traceback (most recent call last)",
            "\u001b[0;32m<ipython-input-3-db6dda56cc4d>\u001b[0m in \u001b[0;36m<cell line: 0>\u001b[0;34m()\u001b[0m\n\u001b[0;32m----> 1\u001b[0;31m \u001b[0mprit\u001b[0m\u001b[0;34m(\u001b[0m\u001b[0;34m\"welcome to Python world\"\u001b[0m\u001b[0;34m)\u001b[0m\u001b[0;34m\u001b[0m\u001b[0;34m\u001b[0m\u001b[0m\n\u001b[0m",
            "\u001b[0;31mNameError\u001b[0m: name 'prit' is not defined"
          ]
        }
      ],
      "source": [
        "prit(\"welcome to Python world\")"
      ]
    },
    {
      "cell_type": "code",
      "source": [
        "print(\"Prabha\")"
      ],
      "metadata": {
        "colab": {
          "base_uri": "https://localhost:8080/"
        },
        "id": "ZK5WZhQNy5ZG",
        "outputId": "3861ee37-503f-49e0-d392-e8c990b3e237"
      },
      "execution_count": null,
      "outputs": [
        {
          "output_type": "stream",
          "name": "stdout",
          "text": [
            "Prabha\n"
          ]
        }
      ]
    },
    {
      "cell_type": "code",
      "source": [
        "#dynamic memory allocation\n",
        "\n",
        "a=10\n",
        "print(a)\n",
        "print(\"address of a in 1st instance=\",id(a)) #prints the address\n",
        "\n",
        "a=3.14\n",
        "print(a)\n",
        "print(\"address of a in 2nd instance=\",id(a))\n",
        "\n",
        "a=\"NTT Bangalore\"\n",
        "print(a)\n",
        "print(\"address of a in 2nd instance=\",id(a))"
      ],
      "metadata": {
        "colab": {
          "base_uri": "https://localhost:8080/"
        },
        "id": "BmY91Wk7xidF",
        "outputId": "de402172-9b46-472e-b2e6-94294a310589"
      },
      "execution_count": 6,
      "outputs": [
        {
          "output_type": "stream",
          "name": "stdout",
          "text": [
            "10\n",
            "address of a in 1st instance= 10751144\n",
            "3.14\n",
            "address of a in 2nd instance= 139748272658416\n",
            "NTT Bangalore\n",
            "address of a in 2nd instance= 139748271140848\n"
          ]
        }
      ]
    },
    {
      "cell_type": "code",
      "source": [
        "2+3"
      ],
      "metadata": {
        "colab": {
          "base_uri": "https://localhost:8080/"
        },
        "id": "456iibnZml4b",
        "outputId": "98005d39-dad6-427f-90f5-a6fad527d64b"
      },
      "execution_count": null,
      "outputs": [
        {
          "output_type": "execute_result",
          "data": {
            "text/plain": [
              "5"
            ]
          },
          "metadata": {},
          "execution_count": 2
        }
      ]
    },
    {
      "cell_type": "code",
      "source": [
        "a=10\n",
        "print(a)\n",
        "print(\"address of a=\",id(a))\n",
        "\n",
        "b=10\n",
        "print(b)\n",
        "print(\"address of b=\",id(b))"
      ],
      "metadata": {
        "id": "4zeqsV9_8jlg",
        "outputId": "c8fd9195-28dd-4375-b0dc-b07dea79e0c3",
        "colab": {
          "base_uri": "https://localhost:8080/"
        }
      },
      "execution_count": null,
      "outputs": [
        {
          "output_type": "stream",
          "name": "stdout",
          "text": [
            "10\n",
            "address of a= 10751144\n",
            "10\n",
            "address of b= 10751144\n"
          ]
        }
      ]
    },
    {
      "cell_type": "code",
      "source": [
        "#deleting the variable\n",
        "\n",
        "a=10\n",
        "print(a)\n",
        "\n",
        "del a\n",
        "print(a)"
      ],
      "metadata": {
        "colab": {
          "base_uri": "https://localhost:8080/",
          "height": 193
        },
        "id": "sMZM3RUl0QPn",
        "outputId": "be752eee-2517-4d49-cd6f-28cb8c1526e1"
      },
      "execution_count": 9,
      "outputs": [
        {
          "output_type": "stream",
          "name": "stdout",
          "text": [
            "10\n"
          ]
        },
        {
          "output_type": "error",
          "ename": "NameError",
          "evalue": "name 'a' is not defined",
          "traceback": [
            "\u001b[0;31m---------------------------------------------------------------------------\u001b[0m",
            "\u001b[0;31mNameError\u001b[0m                                 Traceback (most recent call last)",
            "\u001b[0;32m<ipython-input-9-631344d4c3a7>\u001b[0m in \u001b[0;36m<cell line: 0>\u001b[0;34m()\u001b[0m\n\u001b[1;32m      5\u001b[0m \u001b[0;34m\u001b[0m\u001b[0m\n\u001b[1;32m      6\u001b[0m \u001b[0;32mdel\u001b[0m \u001b[0ma\u001b[0m\u001b[0;34m\u001b[0m\u001b[0;34m\u001b[0m\u001b[0m\n\u001b[0;32m----> 7\u001b[0;31m \u001b[0mprint\u001b[0m\u001b[0;34m(\u001b[0m\u001b[0ma\u001b[0m\u001b[0;34m)\u001b[0m\u001b[0;34m\u001b[0m\u001b[0;34m\u001b[0m\u001b[0m\n\u001b[0m",
            "\u001b[0;31mNameError\u001b[0m: name 'a' is not defined"
          ]
        }
      ]
    },
    {
      "cell_type": "code",
      "source": [
        "#creating multiple variables\n",
        "\n",
        "a,b,c = 10,3.14,\"NTT\"\n",
        "\n",
        "print(a,b,c)\n",
        "\n",
        "#assigning single value to multiple variables\n",
        "\n",
        "a,b,c = 100,100,100\n",
        "print(a,b,c)"
      ],
      "metadata": {
        "colab": {
          "base_uri": "https://localhost:8080/"
        },
        "id": "9TwgF9Gb0mzO",
        "outputId": "0fbcc8eb-f5ba-4a11-82f0-48e2857fb15b"
      },
      "execution_count": 11,
      "outputs": [
        {
          "output_type": "stream",
          "name": "stdout",
          "text": [
            "10 3.14 NTT\n",
            "100 100 100\n"
          ]
        }
      ]
    },
    {
      "cell_type": "code",
      "source": [
        "\"\"\"variable annotation, tag added to know about the datatype of the variable.\n",
        "Useful in realtime projects.\"\"\"\n",
        "\n",
        "a: int=10\n",
        "print(__annotations__['a'])\n",
        "\n",
        "b :float=3.14\n",
        "print(__annotations__['b'])"
      ],
      "metadata": {
        "colab": {
          "base_uri": "https://localhost:8080/"
        },
        "id": "TM-uD-nh1uaj",
        "outputId": "b59fe71a-2865-438b-878c-052902d918b9"
      },
      "execution_count": 21,
      "outputs": [
        {
          "output_type": "stream",
          "name": "stdout",
          "text": [
            "int\n",
            "float\n"
          ]
        }
      ]
    },
    {
      "cell_type": "code",
      "source": [
        "import keyword\n",
        "print(keyword.kwlist)\n",
        "print(len(keyword.kwlist))"
      ],
      "metadata": {
        "colab": {
          "base_uri": "https://localhost:8080/"
        },
        "id": "ao-A0n3x3V64",
        "outputId": "c79adfb1-9126-4964-e5b6-b6733d730dbe"
      },
      "execution_count": 20,
      "outputs": [
        {
          "output_type": "stream",
          "name": "stdout",
          "text": [
            "['False', 'None', 'True', 'and', 'as', 'assert', 'async', 'await', 'break', 'class', 'continue', 'def', 'del', 'elif', 'else', 'except', 'finally', 'for', 'from', 'global', 'if', 'import', 'in', 'is', 'lambda', 'nonlocal', 'not', 'or', 'pass', 'raise', 'return', 'try', 'while', 'with', 'yield']\n",
            "35\n"
          ]
        }
      ]
    },
    {
      "cell_type": "code",
      "source": [
        "#String\n",
        "#Postive slicing\n",
        "\n",
        "s='code yug'\n",
        "print(s[0:3:1])\n",
        "print(s[0:5:2])\n",
        "\n",
        "t='code_yug'\n",
        "print(t[0:3:1])\n",
        "print(t[0:5:2])\n",
        "print(t[::]) #all 3 are optional parameters. So by default, entire string is printed.\n",
        "print(t[:4]) # stopping point is considered here\n",
        "#print(t[0:3:0])"
      ],
      "metadata": {
        "colab": {
          "base_uri": "https://localhost:8080/"
        },
        "id": "R-gTsha8DTx5",
        "outputId": "ce76bf44-185c-48cb-db3f-f2187fa99632"
      },
      "execution_count": 34,
      "outputs": [
        {
          "output_type": "stream",
          "name": "stdout",
          "text": [
            "cod\n",
            "cd \n",
            "cod\n",
            "cd_\n",
            "code_yug\n",
            "code\n"
          ]
        }
      ]
    },
    {
      "cell_type": "code",
      "source": [
        "#Negative slicing\n",
        "s='BANGALORE'\n",
        "print(s[-1:-4:-1])\n",
        "print(s[-1:-8:-2])\n",
        "print(s[-1:-8:-3])\n",
        "print(s[-2:-6:2]) #3rd parameter decides whether its positive/negative indexing. So, no result."
      ],
      "metadata": {
        "colab": {
          "base_uri": "https://localhost:8080/"
        },
        "id": "CfvHaTpIKAHF",
        "outputId": "28f3038e-fb24-4251-90df-e6f2068aaa84"
      },
      "execution_count": 38,
      "outputs": [
        {
          "output_type": "stream",
          "name": "stdout",
          "text": [
            "ERO\n",
            "EOAN\n",
            "ELN\n",
            "\n"
          ]
        }
      ]
    }
  ]
}