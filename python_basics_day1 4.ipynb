{
  "nbformat": 4,
  "nbformat_minor": 0,
  "metadata": {
    "colab": {
      "provenance": []
    },
    "kernelspec": {
      "name": "python3",
      "display_name": "Python 3"
    },
    "language_info": {
      "name": "python"
    }
  },
  "cells": [
    {
      "cell_type": "code",
      "execution_count": null,
      "metadata": {
        "colab": {
          "base_uri": "https://localhost:8080/",
          "height": 141
        },
        "id": "fooBKl8FmcO4",
        "outputId": "2c2d67e8-e943-4afd-d46b-1b04919f4960"
      },
      "outputs": [
        {
          "output_type": "error",
          "ename": "NameError",
          "evalue": "name 'prit' is not defined",
          "traceback": [
            "\u001b[0;31m---------------------------------------------------------------------------\u001b[0m",
            "\u001b[0;31mNameError\u001b[0m                                 Traceback (most recent call last)",
            "\u001b[0;32m<ipython-input-3-db6dda56cc4d>\u001b[0m in \u001b[0;36m<cell line: 0>\u001b[0;34m()\u001b[0m\n\u001b[0;32m----> 1\u001b[0;31m \u001b[0mprit\u001b[0m\u001b[0;34m(\u001b[0m\u001b[0;34m\"welcome to Python world\"\u001b[0m\u001b[0;34m)\u001b[0m\u001b[0;34m\u001b[0m\u001b[0;34m\u001b[0m\u001b[0m\n\u001b[0m",
            "\u001b[0;31mNameError\u001b[0m: name 'prit' is not defined"
          ]
        }
      ],
      "source": [
        "prit(\"welcome to Python world\")"
      ]
    },
    {
      "cell_type": "code",
      "source": [
        "print(\"Prabha\")"
      ],
      "metadata": {
        "colab": {
          "base_uri": "https://localhost:8080/"
        },
        "id": "ZK5WZhQNy5ZG",
        "outputId": "3861ee37-503f-49e0-d392-e8c990b3e237"
      },
      "execution_count": null,
      "outputs": [
        {
          "output_type": "stream",
          "name": "stdout",
          "text": [
            "Prabha\n"
          ]
        }
      ]
    },
    {
      "cell_type": "code",
      "source": [
        "#dynamic memory allocation\n",
        "\n",
        "a=10\n",
        "print(a)\n",
        "print(\"address of a in 1st instance=\",id(a)) #prints the address\n",
        "\n",
        "a=3.14\n",
        "print(a)\n",
        "print(\"address of a in 2nd instance=\",id(a))\n",
        "\n",
        "a=\"NTT Bangalore\"\n",
        "print(a)\n",
        "print(\"address of a in 2nd instance=\",id(a))"
      ],
      "metadata": {
        "colab": {
          "base_uri": "https://localhost:8080/"
        },
        "id": "BmY91Wk7xidF",
        "outputId": "de402172-9b46-472e-b2e6-94294a310589"
      },
      "execution_count": null,
      "outputs": [
        {
          "output_type": "stream",
          "name": "stdout",
          "text": [
            "10\n",
            "address of a in 1st instance= 10751144\n",
            "3.14\n",
            "address of a in 2nd instance= 139748272658416\n",
            "NTT Bangalore\n",
            "address of a in 2nd instance= 139748271140848\n"
          ]
        }
      ]
    },
    {
      "cell_type": "code",
      "source": [
        "2+3"
      ],
      "metadata": {
        "colab": {
          "base_uri": "https://localhost:8080/"
        },
        "id": "456iibnZml4b",
        "outputId": "98005d39-dad6-427f-90f5-a6fad527d64b"
      },
      "execution_count": null,
      "outputs": [
        {
          "output_type": "execute_result",
          "data": {
            "text/plain": [
              "5"
            ]
          },
          "metadata": {},
          "execution_count": 2
        }
      ]
    },
    {
      "cell_type": "code",
      "source": [
        "a=10\n",
        "print(a)\n",
        "print(\"address of a=\",id(a))\n",
        "\n",
        "b=10\n",
        "print(b)\n",
        "print(\"address of b=\",id(b))"
      ],
      "metadata": {
        "id": "4zeqsV9_8jlg",
        "outputId": "c8fd9195-28dd-4375-b0dc-b07dea79e0c3",
        "colab": {
          "base_uri": "https://localhost:8080/"
        }
      },
      "execution_count": null,
      "outputs": [
        {
          "output_type": "stream",
          "name": "stdout",
          "text": [
            "10\n",
            "address of a= 10751144\n",
            "10\n",
            "address of b= 10751144\n"
          ]
        }
      ]
    },
    {
      "cell_type": "code",
      "source": [
        "#deleting the variable\n",
        "\n",
        "a=10\n",
        "print(a)\n",
        "\n",
        "del a\n",
        "print(a)"
      ],
      "metadata": {
        "colab": {
          "base_uri": "https://localhost:8080/",
          "height": 193
        },
        "id": "sMZM3RUl0QPn",
        "outputId": "be752eee-2517-4d49-cd6f-28cb8c1526e1"
      },
      "execution_count": null,
      "outputs": [
        {
          "output_type": "stream",
          "name": "stdout",
          "text": [
            "10\n"
          ]
        },
        {
          "output_type": "error",
          "ename": "NameError",
          "evalue": "name 'a' is not defined",
          "traceback": [
            "\u001b[0;31m---------------------------------------------------------------------------\u001b[0m",
            "\u001b[0;31mNameError\u001b[0m                                 Traceback (most recent call last)",
            "\u001b[0;32m<ipython-input-9-631344d4c3a7>\u001b[0m in \u001b[0;36m<cell line: 0>\u001b[0;34m()\u001b[0m\n\u001b[1;32m      5\u001b[0m \u001b[0;34m\u001b[0m\u001b[0m\n\u001b[1;32m      6\u001b[0m \u001b[0;32mdel\u001b[0m \u001b[0ma\u001b[0m\u001b[0;34m\u001b[0m\u001b[0;34m\u001b[0m\u001b[0m\n\u001b[0;32m----> 7\u001b[0;31m \u001b[0mprint\u001b[0m\u001b[0;34m(\u001b[0m\u001b[0ma\u001b[0m\u001b[0;34m)\u001b[0m\u001b[0;34m\u001b[0m\u001b[0;34m\u001b[0m\u001b[0m\n\u001b[0m",
            "\u001b[0;31mNameError\u001b[0m: name 'a' is not defined"
          ]
        }
      ]
    },
    {
      "cell_type": "code",
      "source": [
        "#creating multiple variables\n",
        "\n",
        "a,b,c = 10,3.14,\"NTT\"\n",
        "\n",
        "print(a,b,c)\n",
        "\n",
        "#assigning single value to multiple variables\n",
        "\n",
        "a,b,c = 100,100,100\n",
        "print(a,b,c)"
      ],
      "metadata": {
        "colab": {
          "base_uri": "https://localhost:8080/"
        },
        "id": "9TwgF9Gb0mzO",
        "outputId": "0fbcc8eb-f5ba-4a11-82f0-48e2857fb15b"
      },
      "execution_count": null,
      "outputs": [
        {
          "output_type": "stream",
          "name": "stdout",
          "text": [
            "10 3.14 NTT\n",
            "100 100 100\n"
          ]
        }
      ]
    },
    {
      "cell_type": "code",
      "source": [
        "\"\"\"variable annotation, tag added to know about the datatype of the variable.\n",
        "Useful in realtime projects.\"\"\"\n",
        "\n",
        "a: int=10\n",
        "print(__annotations__['a'])\n",
        "\n",
        "b :float=3.14\n",
        "print(__annotations__['b'])"
      ],
      "metadata": {
        "colab": {
          "base_uri": "https://localhost:8080/"
        },
        "id": "TM-uD-nh1uaj",
        "outputId": "b59fe71a-2865-438b-878c-052902d918b9"
      },
      "execution_count": null,
      "outputs": [
        {
          "output_type": "stream",
          "name": "stdout",
          "text": [
            "int\n",
            "float\n"
          ]
        }
      ]
    },
    {
      "cell_type": "code",
      "source": [
        "import keyword\n",
        "print(keyword.kwlist)\n",
        "print(len(keyword.kwlist))"
      ],
      "metadata": {
        "colab": {
          "base_uri": "https://localhost:8080/"
        },
        "id": "ao-A0n3x3V64",
        "outputId": "c79adfb1-9126-4964-e5b6-b6733d730dbe"
      },
      "execution_count": null,
      "outputs": [
        {
          "output_type": "stream",
          "name": "stdout",
          "text": [
            "['False', 'None', 'True', 'and', 'as', 'assert', 'async', 'await', 'break', 'class', 'continue', 'def', 'del', 'elif', 'else', 'except', 'finally', 'for', 'from', 'global', 'if', 'import', 'in', 'is', 'lambda', 'nonlocal', 'not', 'or', 'pass', 'raise', 'return', 'try', 'while', 'with', 'yield']\n",
            "35\n"
          ]
        }
      ]
    },
    {
      "cell_type": "code",
      "source": [
        "#String\n",
        "#Postive slicing --Left to Right\n",
        "\n",
        "s='code yug'\n",
        "print(s[0:3:1])\n",
        "print(s[0:5:2])\n",
        "\n",
        "t='code_yug'\n",
        "print(t[0:3:1])\n",
        "print(t[0:5:2])\n",
        "print(t[::]) #all 3 are optional parameters. So by default, entire string is printed.\n",
        "print(t[:4]) # stopping point is considered here\n",
        "#print(t[0:3:0])"
      ],
      "metadata": {
        "colab": {
          "base_uri": "https://localhost:8080/"
        },
        "id": "R-gTsha8DTx5",
        "outputId": "ce76bf44-185c-48cb-db3f-f2187fa99632"
      },
      "execution_count": null,
      "outputs": [
        {
          "output_type": "stream",
          "name": "stdout",
          "text": [
            "cod\n",
            "cd \n",
            "cod\n",
            "cd_\n",
            "code_yug\n",
            "code\n"
          ]
        }
      ]
    },
    {
      "cell_type": "code",
      "source": [
        "#Negative slicing -- Right to Left\n",
        "s='BANGALORE'\n",
        "print(s[-1:-4:-1])\n",
        "print(s[-1:-8:-2])\n",
        "print(s[-1:-8:-3])\n",
        "print(s[-2:-6:2]) #3rd parameter decides whether its positive/negative indexing. So, no result.\n",
        "print(s[-1::-1])\n",
        "print(s[0:20:1]) #Error won't be throw for Slicing though the stop point excedes the last point. But, Indexing will throw the error."
      ],
      "metadata": {
        "colab": {
          "base_uri": "https://localhost:8080/"
        },
        "id": "CfvHaTpIKAHF",
        "outputId": "78bd808e-4e25-4521-be3d-9b385ad682ae"
      },
      "execution_count": null,
      "outputs": [
        {
          "output_type": "stream",
          "name": "stdout",
          "text": [
            "ERO\n",
            "EOAN\n",
            "ELN\n",
            "\n",
            "EROLAGNAB\n",
            "BANGALORE\n"
          ]
        }
      ]
    },
    {
      "cell_type": "code",
      "source": [
        "s='Hello,World!'\n",
        "print(s[-6:-1]) #3rd parameter decides whether its positive/negative indexing.Here, nothing is given, so, its +ve indexing by default."
      ],
      "metadata": {
        "colab": {
          "base_uri": "https://localhost:8080/"
        },
        "id": "2uGSN-8dN6Gg",
        "outputId": "6bf70e0c-3298-4767-c75b-6783c6995dbf"
      },
      "execution_count": null,
      "outputs": [
        {
          "output_type": "stream",
          "name": "stdout",
          "text": [
            "World\n"
          ]
        }
      ]
    },
    {
      "cell_type": "code",
      "source": [
        "#Day3\n",
        "#simple if statement\n",
        "if 10>5:\n",
        "  print(\"10 is greater than 5\")\n",
        "  print(\"am inside 'if' block\")\n",
        "  print(\"still am inside 'if' block\")\n",
        "print(\"am outside 'if' block\")"
      ],
      "metadata": {
        "colab": {
          "base_uri": "https://localhost:8080/"
        },
        "id": "eDdebDo3nDcY",
        "outputId": "0be72570-3046-4e90-ad8e-97f8b4ed1104"
      },
      "execution_count": null,
      "outputs": [
        {
          "output_type": "stream",
          "name": "stdout",
          "text": [
            "10 is greater than 5\n",
            "am inside 'if' block\n",
            "still am inside 'if' block\n",
            "am outside 'if' block\n"
          ]
        }
      ]
    },
    {
      "cell_type": "code",
      "source": [
        "#input function - This fn. will take the i/p from the User. But, it handles only string so 'a' is typecasted to int in below code.\n",
        "a= int(input(\"Enter a number\"))\n",
        "if 10>a:\n",
        "  print(\"10 is greater\")\n",
        "else:\n",
        "  print(a,\" is greater\")"
      ],
      "metadata": {
        "colab": {
          "base_uri": "https://localhost:8080/"
        },
        "id": "bNs7TOP2oh7R",
        "outputId": "71ed4d77-b520-47e1-f5c1-9c18c7bb045f"
      },
      "execution_count": null,
      "outputs": [
        {
          "output_type": "stream",
          "name": "stdout",
          "text": [
            "Enter a number100\n",
            "100  is greater\n"
          ]
        }
      ]
    },
    {
      "cell_type": "code",
      "source": [
        "no1=input(\"Enter first number:\")\n",
        "no2=input(\"Enter second number:\")\n",
        "print(no1+no2) #concatenates the values since they are not typecasted to int\n",
        "print(no1,no2)"
      ],
      "metadata": {
        "colab": {
          "base_uri": "https://localhost:8080/"
        },
        "id": "EdZYIxjgpy1o",
        "outputId": "442b4808-bd05-4c5f-cd66-d022d171a4a1"
      },
      "execution_count": null,
      "outputs": [
        {
          "output_type": "stream",
          "name": "stdout",
          "text": [
            "Enter first number:13\n",
            "Enter second number:24\n",
            "1324\n",
            "13 24\n"
          ]
        }
      ]
    },
    {
      "cell_type": "code",
      "source": [
        "#if else\n",
        "age=int(input(\"Enter your age:\"))\n",
        "if age>=18:\n",
        "  print(\"Welcome to Voting System\")\n",
        "  print(\"You can vote\")\n",
        "else:\n",
        "  print(\"Sorry, you cannot vote\")\n",
        "print(\"Thank You\")"
      ],
      "metadata": {
        "colab": {
          "base_uri": "https://localhost:8080/"
        },
        "id": "JM5iCAAYsvNe",
        "outputId": "a5afb4bb-9966-439e-a221-e574fd1f2b33"
      },
      "execution_count": null,
      "outputs": [
        {
          "output_type": "stream",
          "name": "stdout",
          "text": [
            "Enter your age:10\n",
            "Sorry, you cannot vote\n",
            "Thank You\n"
          ]
        }
      ]
    },
    {
      "cell_type": "code",
      "source": [
        "#if else\n",
        "Number=int(input(\"Enter a number:\"))\n",
        "if Number%2==0:\n",
        "  print(Number,\"is even\")\n",
        "else:\n",
        "  print(Number,\"is odd\")"
      ],
      "metadata": {
        "colab": {
          "base_uri": "https://localhost:8080/"
        },
        "id": "hQw2XomOtnY2",
        "outputId": "c81f3fe4-4877-42d5-a155-04a19b291329"
      },
      "execution_count": null,
      "outputs": [
        {
          "output_type": "stream",
          "name": "stdout",
          "text": [
            "Enter a number:30\n",
            "30 is even\n"
          ]
        }
      ]
    },
    {
      "cell_type": "code",
      "source": [
        "#if elif else\n",
        "a=int(input(\"Enter your score: \"))\n",
        "if a>90:\n",
        "  print(\"A+ Grade\")\n",
        "elif a>80:\n",
        "  print(\"A Grade\")\n",
        "elif a>70:\n",
        "  print(\"B Grade\")\n",
        "elif a>60:\n",
        "  print(\"C Grade\")\n",
        "elif a>50:\n",
        "  print(\"D Grade\")\n",
        "\n",
        "else:\n",
        "  print(\"No Grade\")\n"
      ],
      "metadata": {
        "colab": {
          "base_uri": "https://localhost:8080/"
        },
        "id": "mFFCbZyTvSEG",
        "outputId": "69f840bb-80cb-46b7-8795-afd059c20fe1"
      },
      "execution_count": null,
      "outputs": [
        {
          "output_type": "stream",
          "name": "stdout",
          "text": [
            "Enter your score: 100\n",
            "A+ Grade\n"
          ]
        }
      ]
    },
    {
      "cell_type": "code",
      "source": [
        "#nested if\n",
        "num=int(input(\"Enter a number:\"))\n",
        "if num>0:\n",
        "  print(\"Number is positive\")\n",
        "  if num%2==0:\n",
        "    print(\"Number is Even\")\n",
        "  else:\n",
        "    print(\"Number is Odd\")\n",
        "else:\n",
        "    print(\"Number is negative\")"
      ],
      "metadata": {
        "colab": {
          "base_uri": "https://localhost:8080/"
        },
        "id": "61cgiqkW0KOg",
        "outputId": "2f91f8fb-9c1c-4e3b-ccc2-6d3c6da856ba"
      },
      "execution_count": null,
      "outputs": [
        {
          "output_type": "stream",
          "name": "stdout",
          "text": [
            "Enter a number:-18371723\n",
            "Number is negative\n"
          ]
        }
      ]
    },
    {
      "cell_type": "code",
      "source": [
        "#While loop\n",
        "i=2\n",
        "while i<=5:\n",
        "  print(i)\n",
        "  i=i+1\n",
        "print(\"while loop ends here\")"
      ],
      "metadata": {
        "collapsed": true,
        "colab": {
          "base_uri": "https://localhost:8080/"
        },
        "id": "nmDcPoC515Wz",
        "outputId": "06915ddd-00e7-4bfd-d9b8-d10efb0b362d"
      },
      "execution_count": null,
      "outputs": [
        {
          "output_type": "stream",
          "name": "stdout",
          "text": [
            "2\n",
            "3\n",
            "4\n",
            "5\n",
            "while loop ends here\n"
          ]
        }
      ]
    },
    {
      "cell_type": "code",
      "source": [
        "#multiplication tables\n",
        "Number=int(input(\"Enter the number for which you need the tables\"))\n",
        "i=1\n",
        "while i<=10:\n",
        " print(i*Number)\n",
        " i=i+1\n",
        "print(\"while loop ends here\")"
      ],
      "metadata": {
        "colab": {
          "base_uri": "https://localhost:8080/"
        },
        "id": "lj4jT9O32xDQ",
        "outputId": "06f4f1fb-660c-4acf-fccd-800e10864470"
      },
      "execution_count": null,
      "outputs": [
        {
          "output_type": "stream",
          "name": "stdout",
          "text": [
            "Enter the number for which you need the tables2\n",
            "2\n",
            "4\n",
            "6\n",
            "8\n",
            "10\n",
            "12\n",
            "14\n",
            "16\n",
            "18\n",
            "20\n",
            "while loop ends here\n"
          ]
        }
      ]
    },
    {
      "cell_type": "code",
      "source": [
        "#printing only odd number\n",
        "Number=int(input(\"Enter the limit until which you want the odd numbers: \"))\n",
        "i=1\n",
        "while i<=Number:\n",
        "  print(i)\n",
        "  i=i+2"
      ],
      "metadata": {
        "colab": {
          "base_uri": "https://localhost:8080/"
        },
        "id": "_eoAzzph4Ry5",
        "outputId": "a5a95b18-5b0b-41f7-af78-8d5731b58de7"
      },
      "execution_count": null,
      "outputs": [
        {
          "output_type": "stream",
          "name": "stdout",
          "text": [
            "Enter the limit until which you want the odd numbers: 10\n",
            "1\n",
            "3\n",
            "5\n",
            "7\n",
            "9\n"
          ]
        }
      ]
    },
    {
      "cell_type": "code",
      "source": [
        "#for loop - will work only based on number of sequence mentioned\n",
        "for i in 'NTT DATA':\n",
        "  print(i)\n",
        "for i in [1,2,3,3]:\n",
        "  print(\"NTT Data\")"
      ],
      "metadata": {
        "colab": {
          "base_uri": "https://localhost:8080/"
        },
        "id": "fr5sqDLt56T3",
        "outputId": "f270d15b-89a2-48e9-b797-9203552f851f"
      },
      "execution_count": null,
      "outputs": [
        {
          "output_type": "stream",
          "name": "stdout",
          "text": [
            "N\n",
            "T\n",
            "T\n",
            " \n",
            "D\n",
            "A\n",
            "T\n",
            "A\n",
            "NTT Data\n",
            "NTT Data\n",
            "NTT Data\n",
            "NTT Data\n"
          ]
        }
      ]
    },
    {
      "cell_type": "code",
      "source": [
        "# In a given string, count the number of vowels\n",
        "# Syntax - for variable in sequence. Variable will hold the values in sequence each at a time.\n",
        "vowels=['a','e','i','o','u']\n",
        "s=input(\"Enter a String: \")\n",
        "counter=0\n",
        "for t in s: #for loop defines the no. of items the counting has to happen & executes in sequence. Keyword 'in' is a membership operator.\n",
        "  if t in vowels:\n",
        "    counter=counter+1\n",
        "print(\"No. of vowels in the string =\",counter)"
      ],
      "metadata": {
        "colab": {
          "base_uri": "https://localhost:8080/"
        },
        "id": "K_JQn5F16hSP",
        "outputId": "a3daa7af-962d-4a46-e8b6-2ad0ae9fff3d"
      },
      "execution_count": null,
      "outputs": [
        {
          "output_type": "stream",
          "name": "stdout",
          "text": [
            "Enter a String: efwefew\n",
            "No. of vowels in the string = 3\n"
          ]
        }
      ]
    },
    {
      "cell_type": "code",
      "source": [
        "#Reverse a string using slicing\n",
        "#Negative Slicing\n",
        "s=input(\"Enter a string:\")\n",
        "#print(s[-1::-1])\n",
        "#print(s[::-1]) #In -ve slicing, when start & stop positions are not defined, default places would be -1 & end of the string.\n",
        "print(s[-1:-(len(s)+1):-1])\n",
        "print(s[::1])\n",
        "\n"
      ],
      "metadata": {
        "colab": {
          "base_uri": "https://localhost:8080/"
        },
        "id": "5yYYj7GBwrIW",
        "outputId": "dbedcc09-5f83-4112-bde1-8c89a79735dc"
      },
      "execution_count": null,
      "outputs": [
        {
          "output_type": "stream",
          "name": "stdout",
          "text": [
            "Enter a string:asdgajsfgsdajf\n",
            "fjadsgfsjagdsa\n"
          ]
        }
      ]
    },
    {
      "cell_type": "code",
      "source": [
        "#Palindrome\n",
        "s=input(\"Enter a string:\").lower() #lower() function changes the char to lower case\n",
        "t=s[::-1]\n",
        "#print(t)\n",
        "if s==t:\n",
        "  print(s,\"is a palindrome\")\n",
        "else:\n",
        "  print(s,\"is not a palindrome\")"
      ],
      "metadata": {
        "id": "-6JGECleMNiL",
        "outputId": "8f1f5847-950d-4e9c-d345-898c5838a57a",
        "colab": {
          "base_uri": "https://localhost:8080/"
        }
      },
      "execution_count": null,
      "outputs": [
        {
          "output_type": "stream",
          "name": "stdout",
          "text": [
            "Enter a string:MAlayalam\n",
            "malayalam is a palindrome\n"
          ]
        }
      ]
    },
    {
      "cell_type": "code",
      "source": [
        "#nested for loop\n",
        "\n",
        "for i in 'BLR':\n",
        "  print(i,\"Outerloop\")\n",
        "  for j in 10,20,30:\n",
        "    print(\"Innerloop\")\n",
        "    print(i,j)"
      ],
      "metadata": {
        "colab": {
          "base_uri": "https://localhost:8080/"
        },
        "id": "LDlHGXTU0mUr",
        "outputId": "979c51bf-d8a9-4808-dcc0-8b6fda999f36"
      },
      "execution_count": null,
      "outputs": [
        {
          "output_type": "stream",
          "name": "stdout",
          "text": [
            "B Outerloop\n",
            "Innerloop\n",
            "B 10\n",
            "Innerloop\n",
            "B 20\n",
            "Innerloop\n",
            "B 30\n",
            "L Outerloop\n",
            "Innerloop\n",
            "L 10\n",
            "Innerloop\n",
            "L 20\n",
            "Innerloop\n",
            "L 30\n",
            "R Outerloop\n",
            "Innerloop\n",
            "R 10\n",
            "Innerloop\n",
            "R 20\n",
            "Innerloop\n",
            "R 30\n"
          ]
        }
      ]
    },
    {
      "cell_type": "code",
      "source": [
        "#break statement - used to alter the flow of the program. Will take you out of the statement you're in.\n",
        "\n",
        "i=0\n",
        "for i in range(10):\n",
        "  print(i)\n",
        "  i=i+1\n",
        "  if i==10:\n",
        "    break\n",
        "print(\"Loop done for 10 times\")"
      ],
      "metadata": {
        "colab": {
          "base_uri": "https://localhost:8080/"
        },
        "id": "VLMMniyV6UaD",
        "outputId": "46adae9f-1abe-4435-ddfa-521cae62978f"
      },
      "execution_count": null,
      "outputs": [
        {
          "output_type": "stream",
          "name": "stdout",
          "text": [
            "0\n",
            "1\n",
            "2\n",
            "3\n",
            "4\n",
            "5\n",
            "6\n",
            "7\n",
            "8\n",
            "9\n",
            "Loop done for 10 times\n"
          ]
        }
      ]
    },
    {
      "cell_type": "code",
      "source": [
        "#string manipulations.\n",
        "s1='Apple'\n",
        "s2='Banana'\n",
        "\n",
        "print(s1+s2)\n",
        "print(s2*5)"
      ],
      "metadata": {
        "colab": {
          "base_uri": "https://localhost:8080/"
        },
        "id": "OV08NG6e9fNz",
        "outputId": "23e60b2f-ce12-458b-9c71-6d9c4ed722a0"
      },
      "execution_count": null,
      "outputs": [
        {
          "output_type": "stream",
          "name": "stdout",
          "text": [
            "AppleBanana\n",
            "BananaBananaBananaBananaBanana\n"
          ]
        }
      ]
    },
    {
      "cell_type": "code",
      "source": [
        "#String is immutable i.e. can't be modified. Once its created, can't be changed anytime. To change, it can be stored in a different variable.\n",
        "s1='Apple'\n",
        "print(s1[0])\n",
        "s1[0]='B'\n",
        "print(s1)"
      ],
      "metadata": {
        "colab": {
          "base_uri": "https://localhost:8080/",
          "height": 193
        },
        "id": "TrrDQzrn95_G",
        "outputId": "0ee8ecfc-8c3b-47ce-970c-3fcddb6daf84"
      },
      "execution_count": null,
      "outputs": [
        {
          "output_type": "stream",
          "name": "stdout",
          "text": [
            "A\n"
          ]
        },
        {
          "output_type": "error",
          "ename": "NameError",
          "evalue": "name 's1' is not defined",
          "traceback": [
            "\u001b[0;31m---------------------------------------------------------------------------\u001b[0m",
            "\u001b[0;31mNameError\u001b[0m                                 Traceback (most recent call last)",
            "\u001b[0;32m<ipython-input-20-8f61270360da>\u001b[0m in \u001b[0;36m<cell line: 0>\u001b[0;34m()\u001b[0m\n\u001b[1;32m      5\u001b[0m \u001b[0;31m#print(s1)\u001b[0m\u001b[0;34m\u001b[0m\u001b[0;34m\u001b[0m\u001b[0m\n\u001b[1;32m      6\u001b[0m \u001b[0;32mdel\u001b[0m\u001b[0;34m(\u001b[0m\u001b[0ms1\u001b[0m\u001b[0;34m)\u001b[0m\u001b[0;34m\u001b[0m\u001b[0;34m\u001b[0m\u001b[0m\n\u001b[0;32m----> 7\u001b[0;31m \u001b[0mprint\u001b[0m\u001b[0;34m(\u001b[0m\u001b[0ms1\u001b[0m\u001b[0;34m)\u001b[0m\u001b[0;34m\u001b[0m\u001b[0;34m\u001b[0m\u001b[0m\n\u001b[0m",
            "\u001b[0;31mNameError\u001b[0m: name 's1' is not defined"
          ]
        }
      ]
    },
    {
      "cell_type": "code",
      "source": [
        "# deletion of a string. Only the entire can be deleted not just its characters.\n",
        "s1='Apple'\n",
        "print(s1)\n",
        "del(s1)\n",
        "print(s1)"
      ],
      "metadata": {
        "colab": {
          "base_uri": "https://localhost:8080/",
          "height": 193
        },
        "id": "zdr6_c8-_E9E",
        "outputId": "22283502-e6e0-47a2-9936-b79f761f2cb8"
      },
      "execution_count": null,
      "outputs": [
        {
          "output_type": "stream",
          "name": "stdout",
          "text": [
            "Apple\n"
          ]
        },
        {
          "output_type": "error",
          "ename": "NameError",
          "evalue": "name 's1' is not defined",
          "traceback": [
            "\u001b[0;31m---------------------------------------------------------------------------\u001b[0m",
            "\u001b[0;31mNameError\u001b[0m                                 Traceback (most recent call last)",
            "\u001b[0;32m<ipython-input-21-823f04cb2b8b>\u001b[0m in \u001b[0;36m<cell line: 0>\u001b[0;34m()\u001b[0m\n\u001b[1;32m      3\u001b[0m \u001b[0mprint\u001b[0m\u001b[0;34m(\u001b[0m\u001b[0ms1\u001b[0m\u001b[0;34m)\u001b[0m\u001b[0;34m\u001b[0m\u001b[0;34m\u001b[0m\u001b[0m\n\u001b[1;32m      4\u001b[0m \u001b[0;32mdel\u001b[0m\u001b[0;34m(\u001b[0m\u001b[0ms1\u001b[0m\u001b[0;34m)\u001b[0m\u001b[0;34m\u001b[0m\u001b[0;34m\u001b[0m\u001b[0m\n\u001b[0;32m----> 5\u001b[0;31m \u001b[0mprint\u001b[0m\u001b[0;34m(\u001b[0m\u001b[0ms1\u001b[0m\u001b[0;34m)\u001b[0m\u001b[0;34m\u001b[0m\u001b[0;34m\u001b[0m\u001b[0m\n\u001b[0m",
            "\u001b[0;31mNameError\u001b[0m: name 's1' is not defined"
          ]
        }
      ]
    },
    {
      "cell_type": "code",
      "source": [
        "#startswith function\n",
        "mobile_no=input(\"Enter a mobile number to find its country:\")\n",
        "if mobile_no.startswith('+91'):\n",
        "  print(\"India\")\n",
        "elif mobile_no.startswith('+35'):\n",
        "  print(\"Ireland\")\n",
        "elif mobile_no.startswith('+11'):\n",
        "  print(\"Germany\")\n",
        "else:\n",
        "  print(\"Not Found\")"
      ],
      "metadata": {
        "colab": {
          "base_uri": "https://localhost:8080/"
        },
        "id": "abulZltpCLsf",
        "outputId": "e6eaaf4b-d9f3-4db5-e8ac-a06b12fe3432"
      },
      "execution_count": null,
      "outputs": [
        {
          "output_type": "stream",
          "name": "stdout",
          "text": [
            "Enter a mobile number to find its country:wute2gi\n",
            "Not Found\n"
          ]
        }
      ]
    },
    {
      "cell_type": "code",
      "source": [
        "#endswith() function\n",
        "URL=input(\"Enter a URL:\")\n",
        "if URL.endswith('.com'):\n",
        "  print(\"Commercial website\")\n",
        "elif URL.endswith('.edu'):\n",
        "  print(\"Educational website\")\n",
        "elif URL.endswith('.org'):\n",
        "  print(\"Charitable Organisation website\")\n",
        "else:\n",
        "  print(\"Not Found\")"
      ],
      "metadata": {
        "colab": {
          "base_uri": "https://localhost:8080/"
        },
        "id": "6ZB2ymKyGaLZ",
        "outputId": "945e00cf-8895-49c8-d266-fdd0fe5f5a1d"
      },
      "execution_count": null,
      "outputs": [
        {
          "output_type": "stream",
          "name": "stdout",
          "text": [
            "Enter a URL:www.helpline.org\n",
            "Charitable Organisation website\n"
          ]
        }
      ]
    },
    {
      "cell_type": "code",
      "source": [
        "#stripping\n",
        "name=input(\"Enter your name:\")\n",
        "print(name)\n",
        "name=name.lstrip('a')\n",
        "print(name)"
      ],
      "metadata": {
        "colab": {
          "base_uri": "https://localhost:8080/"
        },
        "id": "hNevDI_oIOYl",
        "outputId": "cb875979-0642-4806-cd1a-f0958956c230"
      },
      "execution_count": null,
      "outputs": [
        {
          "output_type": "stream",
          "name": "stdout",
          "text": [
            "Enter your name:aalan\n",
            "aalan\n",
            "lan\n"
          ]
        }
      ]
    },
    {
      "cell_type": "code",
      "source": [
        "'''automatically removes the repeated characters. Stripping will be stopped once the 1st mismatch from the input string is encountered.\n",
        "1. Consider the input string.\n",
        "2. Check if its present in strip function's input and stripping happens until the 1st mismatch is encountered.\n",
        "'''\n",
        "URL=[\"https://www.myntra.com\",\"https://www.gmail.com\",\"https://www.ajio.com\"] #sequence of values is the list\n",
        "for i in URL:\n",
        "  #i= i.lstrip('https://www.')\n",
        "  i=i.lstrip('ksadasfhtp/w.')\n",
        "  print(i)\n",
        "  j=i.lstrip('htp:/') #automatically removes the repeated characters. Stripping will be stopped once the 1st mismatch is encountered.\n",
        "  print(j)"
      ],
      "metadata": {
        "colab": {
          "base_uri": "https://localhost:8080/"
        },
        "id": "XrJadf3RIiAg",
        "outputId": "40e13d5d-f549-409a-9102-fc93bbb6b8a9"
      },
      "execution_count": null,
      "outputs": [
        {
          "output_type": "stream",
          "name": "stdout",
          "text": [
            "://www.myntra.com\n",
            "www.myntra.com\n",
            "://www.gmail.com\n",
            "www.gmail.com\n",
            "://www.ajio.com\n",
            "www.ajio.com\n"
          ]
        }
      ]
    },
    {
      "cell_type": "code",
      "source": [
        "#String comparison\n",
        "s1='Apple'\n",
        "s2='apple'\n",
        "print(ord('A'))\n",
        "print(ord('a'))\n",
        "\n",
        "print(s1.replace('p','P',2))\n",
        "\n",
        "if s1>s2:\n",
        "  print('s1 is greater')\n",
        "else:\n",
        "  print('s2 is greater')\n",
        "\n",
        "print(s1==s2)"
      ],
      "metadata": {
        "id": "YlxByMrXRRnA",
        "outputId": "1c8a74e1-0516-4b1f-a030-d17ad917aac1",
        "colab": {
          "base_uri": "https://localhost:8080/"
        },
        "collapsed": true
      },
      "execution_count": null,
      "outputs": [
        {
          "output_type": "stream",
          "name": "stdout",
          "text": [
            "65\n",
            "97\n",
            "APPle\n",
            "s2 is greater\n",
            "False\n"
          ]
        }
      ]
    },
    {
      "cell_type": "code",
      "source": [
        "#Split --Splitting will be according to the character passed in the fn.\n",
        "s=\"I live in Bangalore\"\n",
        "#s.split()\n",
        "s1=\"I.live_in Bangalore_since_2002\"\n",
        "s1.split('.',2)\n",
        "#s1.split('_')"
      ],
      "metadata": {
        "id": "EuuiHa3RIx3x",
        "outputId": "f4d06dcb-74d6-4237-a521-683086ca2574",
        "colab": {
          "base_uri": "https://localhost:8080/"
        }
      },
      "execution_count": null,
      "outputs": [
        {
          "output_type": "execute_result",
          "data": {
            "text/plain": [
              "['I', 'live_in Bangalore_since_2002']"
            ]
          },
          "metadata": {},
          "execution_count": 18
        }
      ]
    },
    {
      "cell_type": "code",
      "source": [
        "#list\n",
        "#Python's o/p will be provided in list or tuple in most of the cases.\n",
        "l=[10,20,1.1,'NTT','a']\n",
        "print(l)\n",
        "print(type(l))\n",
        "list1=[2+3j,'A',123,[1,2,'b']]\n",
        "print(list1)\n",
        "list1[-4]\n",
        "print(list1[3][2])"
      ],
      "metadata": {
        "id": "R-Gbx-s5PJTI",
        "outputId": "dc8fe927-8ea0-4f51-ae5a-d49aba9bebb3",
        "colab": {
          "base_uri": "https://localhost:8080/"
        }
      },
      "execution_count": null,
      "outputs": [
        {
          "output_type": "stream",
          "name": "stdout",
          "text": [
            "[10, 20, 1.1, 'NTT', 'a']\n",
            "<class 'list'>\n",
            "[(2+3j), 'A', 123, [1, 2, 'b']]\n",
            "b\n"
          ]
        }
      ]
    },
    {
      "cell_type": "code",
      "source": [
        "#list slicing\n",
        "l1=[2+3j,'A',123,[1,2,'b']]\n",
        "l1[:2]"
      ],
      "metadata": {
        "id": "6I7lDtmPRknY",
        "outputId": "c9cb1fca-992e-47a8-88ad-9b937c70b8da",
        "colab": {
          "base_uri": "https://localhost:8080/"
        }
      },
      "execution_count": null,
      "outputs": [
        {
          "output_type": "execute_result",
          "data": {
            "text/plain": [
              "[(2+3j), 'A']"
            ]
          },
          "metadata": {},
          "execution_count": 32
        }
      ]
    },
    {
      "cell_type": "code",
      "source": [
        "#Diff. b/w remove & pop is that remove returns no value when something is removed while pop returns the value that is removed\n",
        "l1=[10,20,30,40]\n",
        "print(l1.remove(30))\n",
        "print('remaining elements:',l1)\n",
        "l2=[85,86,87,88]\n",
        "print('the popped element is',l2.pop())\n",
        "print('remaining elements:',l2)"
      ],
      "metadata": {
        "id": "imoeUqgJjAvP",
        "outputId": "d278229b-44de-4b06-c332-7fe9ed3a1e3b",
        "colab": {
          "base_uri": "https://localhost:8080/"
        }
      },
      "execution_count": null,
      "outputs": [
        {
          "output_type": "stream",
          "name": "stdout",
          "text": [
            "None\n",
            "remaining elements: [10, 20, 40]\n",
            "the popped element is 88\n",
            "remaining elements: [85, 86, 87]\n"
          ]
        }
      ]
    },
    {
      "cell_type": "code",
      "source": [
        "#remove duplicates from given list\n",
        "l1=[10,25,36,10,81,26]\n",
        "uniq_list=[]\n",
        "for i in l1:\n",
        "  if i not in uniq_list:\n",
        "    uniq_list.append(i)\n",
        "print(uniq_list)\n"
      ],
      "metadata": {
        "colab": {
          "base_uri": "https://localhost:8080/"
        },
        "id": "wQiyaeavkOSH",
        "outputId": "5caffb07-e168-48b8-c6ce-b993542a2e87"
      },
      "execution_count": null,
      "outputs": [
        {
          "output_type": "stream",
          "name": "stdout",
          "text": [
            "[10, 25, 36, 81, 26]\n"
          ]
        }
      ]
    },
    {
      "cell_type": "code",
      "source": [
        "#remove duplicates from given list without using empty list\n",
        "l1=[10,25,36,10,81,26]\n",
        "while i in l1:\n",
        "  if l1.count(i)>1:\n",
        "    l1.remove(i)\n",
        "print(l1)\n"
      ],
      "metadata": {
        "colab": {
          "base_uri": "https://localhost:8080/",
          "height": 211
        },
        "id": "BrOreEblm5c2",
        "outputId": "b1506d2f-949c-46ec-cfc6-e55a982a061e"
      },
      "execution_count": null,
      "outputs": [
        {
          "output_type": "error",
          "ename": "KeyboardInterrupt",
          "evalue": "",
          "traceback": [
            "\u001b[0;31m---------------------------------------------------------------------------\u001b[0m",
            "\u001b[0;31mKeyboardInterrupt\u001b[0m                         Traceback (most recent call last)",
            "\u001b[0;32m<ipython-input-20-3d09a346dbc0>\u001b[0m in \u001b[0;36m<cell line: 0>\u001b[0;34m()\u001b[0m\n\u001b[1;32m      1\u001b[0m \u001b[0;31m#remove duplicates from given list without using empty list\u001b[0m\u001b[0;34m\u001b[0m\u001b[0;34m\u001b[0m\u001b[0m\n\u001b[1;32m      2\u001b[0m \u001b[0ml1\u001b[0m\u001b[0;34m=\u001b[0m\u001b[0;34m[\u001b[0m\u001b[0;36m10\u001b[0m\u001b[0;34m,\u001b[0m\u001b[0;36m25\u001b[0m\u001b[0;34m,\u001b[0m\u001b[0;36m36\u001b[0m\u001b[0;34m,\u001b[0m\u001b[0;36m10\u001b[0m\u001b[0;34m,\u001b[0m\u001b[0;36m81\u001b[0m\u001b[0;34m,\u001b[0m\u001b[0;36m26\u001b[0m\u001b[0;34m]\u001b[0m\u001b[0;34m\u001b[0m\u001b[0;34m\u001b[0m\u001b[0m\n\u001b[0;32m----> 3\u001b[0;31m \u001b[0;32mwhile\u001b[0m \u001b[0mi\u001b[0m \u001b[0;32min\u001b[0m \u001b[0ml1\u001b[0m\u001b[0;34m:\u001b[0m\u001b[0;34m\u001b[0m\u001b[0;34m\u001b[0m\u001b[0m\n\u001b[0m\u001b[1;32m      4\u001b[0m   \u001b[0;32mif\u001b[0m \u001b[0ml1\u001b[0m\u001b[0;34m.\u001b[0m\u001b[0mcount\u001b[0m\u001b[0;34m(\u001b[0m\u001b[0mi\u001b[0m\u001b[0;34m)\u001b[0m\u001b[0;34m>\u001b[0m\u001b[0;36m1\u001b[0m\u001b[0;34m:\u001b[0m\u001b[0;34m\u001b[0m\u001b[0;34m\u001b[0m\u001b[0m\n\u001b[1;32m      5\u001b[0m     \u001b[0ml1\u001b[0m\u001b[0;34m.\u001b[0m\u001b[0mremove\u001b[0m\u001b[0;34m(\u001b[0m\u001b[0mi\u001b[0m\u001b[0;34m)\u001b[0m\u001b[0;34m\u001b[0m\u001b[0;34m\u001b[0m\u001b[0m\n",
            "\u001b[0;31mKeyboardInterrupt\u001b[0m: "
          ]
        }
      ]
    },
    {
      "cell_type": "code",
      "source": [
        "#program to find 2nd largest element from the list\n",
        "l1=[12,243,563,100,9]\n",
        "first_largest=max(l1)\n",
        "l1.remove(first_largest)\n",
        "print(\"2nd largest is\",max(l1))"
      ],
      "metadata": {
        "colab": {
          "base_uri": "https://localhost:8080/"
        },
        "id": "6OEKH1dPpTPn",
        "outputId": "3969e0f9-fcdd-44db-cfd4-223a5bb52fc4"
      },
      "execution_count": null,
      "outputs": [
        {
          "output_type": "stream",
          "name": "stdout",
          "text": [
            "2nd largest is 243\n"
          ]
        }
      ]
    },
    {
      "cell_type": "code",
      "source": [
        "#program to find nth largest element from the list\n",
        "l1=[12,243,563,100,9]\n",
        "#563,243,100,12,9\n",
        "n = int(input(\"Enter the value to get the nth largest:\"))\n",
        "i = n-1\n",
        "j=1\n",
        "while j<=i:\n",
        "  l1.remove(max(l1))\n",
        "  j=j+1\n",
        "print(n,\"st/nd/rd/th largest is\",max(l1))\n"
      ],
      "metadata": {
        "colab": {
          "base_uri": "https://localhost:8080/"
        },
        "id": "uZpVHRe1qX89",
        "outputId": "6882e28f-0413-4ee9-9e72-8c8f00591ef2"
      },
      "execution_count": null,
      "outputs": [
        {
          "output_type": "stream",
          "name": "stdout",
          "text": [
            "Enter the value to get the nth largest:4\n",
            "4 st/nd/rd/th largest is 12\n"
          ]
        }
      ]
    },
    {
      "cell_type": "code",
      "source": [
        "#find the no of occurences of the elements in list\n",
        "l1=[12,1,34,12,34,1,2,2,7,8,8]\n",
        "for i in l1:\n",
        "  print(i,\"occurs\",l1.count(i),\"times\")\n"
      ],
      "metadata": {
        "colab": {
          "base_uri": "https://localhost:8080/"
        },
        "id": "ahYHp019sUiy",
        "outputId": "50ed55f3-3615-4989-a6a5-0045fbcc8eb9"
      },
      "execution_count": null,
      "outputs": [
        {
          "output_type": "stream",
          "name": "stdout",
          "text": [
            "12 occurs 2 times\n",
            "1 occurs 2 times\n",
            "34 occurs 2 times\n",
            "12 occurs 2 times\n",
            "34 occurs 2 times\n",
            "1 occurs 2 times\n",
            "2 occurs 2 times\n",
            "2 occurs 2 times\n",
            "7 occurs 1 times\n",
            "8 occurs 2 times\n",
            "8 occurs 2 times\n"
          ]
        }
      ]
    },
    {
      "cell_type": "code",
      "source": [
        "#Tuple. Tuple is represented by ().\n",
        "t1=(10,20,30,40)\n",
        "print(t1)\n",
        "print(type(t1))"
      ],
      "metadata": {
        "colab": {
          "base_uri": "https://localhost:8080/"
        },
        "id": "4dU_JlPkxJ_T",
        "outputId": "58129275-787c-436a-e593-6c7b4c9fe72f"
      },
      "execution_count": null,
      "outputs": [
        {
          "output_type": "stream",
          "name": "stdout",
          "text": [
            "(10, 20, 30, 40)\n",
            "<class 'tuple'>\n"
          ]
        }
      ]
    },
    {
      "cell_type": "code",
      "source": [
        "#Tuple is immutable unlike lists. But you can create a new tuple.\n",
        "t1=(10,20,30,40,'NTT',1.1)\n",
        "#t1[0]=100\n",
        "t1.remove(20)\n",
        "print(t1)"
      ],
      "metadata": {
        "colab": {
          "base_uri": "https://localhost:8080/",
          "height": 193
        },
        "id": "7y7KwGIfx2Fz",
        "outputId": "e02b52b2-3689-4f80-fc0e-dcb63cf09ded"
      },
      "execution_count": null,
      "outputs": [
        {
          "output_type": "error",
          "ename": "AttributeError",
          "evalue": "'tuple' object has no attribute 'remove'",
          "traceback": [
            "\u001b[0;31m---------------------------------------------------------------------------\u001b[0m",
            "\u001b[0;31mAttributeError\u001b[0m                            Traceback (most recent call last)",
            "\u001b[0;32m<ipython-input-51-192146f014ac>\u001b[0m in \u001b[0;36m<cell line: 0>\u001b[0;34m()\u001b[0m\n\u001b[1;32m      1\u001b[0m \u001b[0mt1\u001b[0m\u001b[0;34m=\u001b[0m\u001b[0;34m(\u001b[0m\u001b[0;36m10\u001b[0m\u001b[0;34m,\u001b[0m\u001b[0;36m20\u001b[0m\u001b[0;34m,\u001b[0m\u001b[0;36m30\u001b[0m\u001b[0;34m,\u001b[0m\u001b[0;36m40\u001b[0m\u001b[0;34m)\u001b[0m\u001b[0;34m\u001b[0m\u001b[0;34m\u001b[0m\u001b[0m\n\u001b[1;32m      2\u001b[0m \u001b[0;31m#t1[0]=100\u001b[0m\u001b[0;34m\u001b[0m\u001b[0;34m\u001b[0m\u001b[0m\n\u001b[0;32m----> 3\u001b[0;31m \u001b[0mt1\u001b[0m\u001b[0;34m.\u001b[0m\u001b[0mremove\u001b[0m\u001b[0;34m(\u001b[0m\u001b[0;36m20\u001b[0m\u001b[0;34m)\u001b[0m\u001b[0;34m\u001b[0m\u001b[0;34m\u001b[0m\u001b[0m\n\u001b[0m\u001b[1;32m      4\u001b[0m \u001b[0mprint\u001b[0m\u001b[0;34m(\u001b[0m\u001b[0mt1\u001b[0m\u001b[0;34m)\u001b[0m\u001b[0;34m\u001b[0m\u001b[0;34m\u001b[0m\u001b[0m\n",
            "\u001b[0;31mAttributeError\u001b[0m: 'tuple' object has no attribute 'remove'"
          ]
        }
      ]
    },
    {
      "cell_type": "code",
      "source": [
        "#Converting list to tuple & again to list\n",
        "l1=[10,20,1.1]\n",
        "print(l1)\n",
        "print(type(l1))\n",
        "t1=tuple(l1)\n",
        "print(t1)\n",
        "print(type(t1))\n",
        "l2=list(t1)\n",
        "print(l2)\n",
        "print(type(l2))\n",
        "\n",
        "#adding a single element in tuple. , should be added at the end.\n",
        "t3=(7)\n",
        "print(t3)\n",
        "print(type(t3))\n",
        "t4=(7,)\n",
        "print(t4)\n",
        "print(type(t4))"
      ],
      "metadata": {
        "colab": {
          "base_uri": "https://localhost:8080/"
        },
        "id": "Bzva2wq9yXhT",
        "outputId": "743bfb58-7f36-441b-fa36-3a2742723b43"
      },
      "execution_count": null,
      "outputs": [
        {
          "output_type": "stream",
          "name": "stdout",
          "text": [
            "[10, 20, 1.1]\n",
            "<class 'list'>\n",
            "(10, 20, 1.1)\n",
            "<class 'tuple'>\n",
            "[10, 20, 1.1]\n",
            "<class 'list'>\n",
            "7\n",
            "<class 'int'>\n",
            "(7,)\n",
            "<class 'tuple'>\n"
          ]
        }
      ]
    },
    {
      "cell_type": "code",
      "source": [
        "#Tuple indexing\n",
        "t1=(10,20,30,40,'NTT',1.1)\n",
        "print(t1[0])\n",
        "print(t1[-1])"
      ],
      "metadata": {
        "colab": {
          "base_uri": "https://localhost:8080/"
        },
        "id": "UcwmwPRl3yGk",
        "outputId": "41028a7b-5163-405a-ea8e-68492e7c8aa0"
      },
      "execution_count": null,
      "outputs": [
        {
          "output_type": "stream",
          "name": "stdout",
          "text": [
            "10\n",
            "1.1\n"
          ]
        }
      ]
    },
    {
      "cell_type": "code",
      "source": [
        "#Concatenation. New memory block will be allocated for the tuple that is modified i.e. its treated as new tuple.\n",
        "t1=(10,20,30,40,'NTT',1.1)\n",
        "print(id(t1))\n",
        "new_tuple=t1+(80,90)\n",
        "print(new_tuple)\n",
        "\n",
        "t1=t1+(80,90)\n",
        "print(t1)\n",
        "print(id(t1))"
      ],
      "metadata": {
        "colab": {
          "base_uri": "https://localhost:8080/"
        },
        "id": "DmyiF1nZ4LaH",
        "outputId": "77427242-708f-4dc6-dc0c-0adf88370128"
      },
      "execution_count": null,
      "outputs": [
        {
          "output_type": "stream",
          "name": "stdout",
          "text": [
            "138001978077152\n",
            "(10, 20, 30, 40, 'NTT', 1.1, 80, 90)\n",
            "(10, 20, 30, 40, 'NTT', 1.1, 80, 90)\n",
            "138001978038800\n"
          ]
        }
      ]
    },
    {
      "cell_type": "code",
      "source": [
        "#memory consumption of list & tuple\n",
        "import sys\n",
        "list1=[10,20,30,40,50,60]\n",
        "tuple1=(10,20,30,40,50,60)\n",
        "print(\"size of list1 is\",sys.getsizeof(l1))\n",
        "print(\"size of tuple1 is\",sys.getsizeof(t1))"
      ],
      "metadata": {
        "id": "AV58UX8B58YL",
        "outputId": "1ddf48dd-8839-4071-9120-cfe01dce59d3",
        "colab": {
          "base_uri": "https://localhost:8080/"
        }
      },
      "execution_count": null,
      "outputs": [
        {
          "output_type": "stream",
          "name": "stdout",
          "text": [
            "size of list1 is 88\n",
            "size of tuple1 is 104\n"
          ]
        }
      ]
    },
    {
      "cell_type": "code",
      "source": [
        "#Dictionary. Its is mainly used when you want to define the key values as per your requirement.\n",
        "\n",
        "dict1={101:'A',102:'B',103:'C'}\n",
        "print(dict1)\n",
        "print(type(dict1))\n",
        "dict1[101]"
      ],
      "metadata": {
        "id": "5tR4vTOn63Xr",
        "outputId": "72844ba9-f248-4349-b13f-dc44310f9a7b",
        "colab": {
          "base_uri": "https://localhost:8080/",
          "height": 70
        }
      },
      "execution_count": 2,
      "outputs": [
        {
          "output_type": "stream",
          "name": "stdout",
          "text": [
            "{101: 'A', 102: 'B', 103: 'C'}\n",
            "<class 'dict'>\n"
          ]
        },
        {
          "output_type": "execute_result",
          "data": {
            "text/plain": [
              "'A'"
            ],
            "application/vnd.google.colaboratory.intrinsic+json": {
              "type": "string"
            }
          },
          "metadata": {},
          "execution_count": 2
        }
      ]
    },
    {
      "cell_type": "code",
      "source": [
        "#Dictionary can be defined with both List & Tuple.\n",
        "\n",
        "dict2={9881:[\"Alex\",22,\"Addr1\"],8443:[\"Bob\",34,\"Addr2\"],9442:[\"Charlie\",45,\"Addr3\"]}\n",
        "dict2[9883]=[\"Mike\",56,\"Addr4\"]\n",
        "#dict2[9442]\n",
        "print(dict2)\n",
        "dict2[9883]\n",
        "del dict2[9883]\n",
        "print(dict2)"
      ],
      "metadata": {
        "id": "Ps6YrsRi3b3T",
        "outputId": "71ff247b-958b-4aef-9f3e-43c6da3a0912",
        "colab": {
          "base_uri": "https://localhost:8080/"
        }
      },
      "execution_count": 26,
      "outputs": [
        {
          "output_type": "stream",
          "name": "stdout",
          "text": [
            "{9881: ['Alex', 22, 'Addr1'], 8443: ['Bob', 34, 'Addr2'], 9442: ['Charlie', 45, 'Addr3'], 9883: ['Mike', 56, 'Addr4']}\n",
            "{9881: ['Alex', 22, 'Addr1'], 8443: ['Bob', 34, 'Addr2'], 9442: ['Charlie', 45, 'Addr3']}\n"
          ]
        }
      ]
    },
    {
      "cell_type": "code",
      "source": [
        "#dict operations using inbuilt methods\n",
        "dict2={9881:[\"Alex\",22,\"Addr1\"],8443:[\"Bob\",34,\"Addr2\"],9442:[\"Charlie\",45,\"Addr3\"]}\n",
        "print(dict2.keys())\n",
        "\n",
        "print(dict2.values())\n",
        "\n",
        "#print(dict2.items())\n",
        "\n",
        "val=dict2.items()\n",
        "print(type(val))\n",
        "print(val)"
      ],
      "metadata": {
        "id": "s2-SR2t88VIP",
        "outputId": "84373781-d655-406d-9140-7aeb4814379d",
        "colab": {
          "base_uri": "https://localhost:8080/"
        }
      },
      "execution_count": 29,
      "outputs": [
        {
          "output_type": "stream",
          "name": "stdout",
          "text": [
            "dict_keys([9881, 8443, 9442])\n",
            "dict_values([['Alex', 22, 'Addr1'], ['Bob', 34, 'Addr2'], ['Charlie', 45, 'Addr3']])\n",
            "<class 'dict_items'>\n",
            "dict_items([(9881, ['Alex', 22, 'Addr1']), (8443, ['Bob', 34, 'Addr2']), (9442, ['Charlie', 45, 'Addr3'])])\n"
          ]
        }
      ]
    },
    {
      "cell_type": "code",
      "source": [
        "#Set\n",
        "\n",
        "set1={13,'NTT',10.45}\n",
        "print(set1)\n",
        "\n",
        "s=set(\"NTT Data\")\n",
        "print(s)\n",
        "#No indexing concept in Sets\n",
        "set1[0]"
      ],
      "metadata": {
        "id": "4dMIKLGgALvk",
        "outputId": "199daf65-b337-4a82-accc-13470be26670",
        "colab": {
          "base_uri": "https://localhost:8080/",
          "height": 211
        }
      },
      "execution_count": 32,
      "outputs": [
        {
          "output_type": "stream",
          "name": "stdout",
          "text": [
            "{'NTT', 10.45, 13}\n",
            "{'t', 'T', 'a', 'D', 'N', ' '}\n"
          ]
        },
        {
          "output_type": "error",
          "ename": "TypeError",
          "evalue": "'set' object is not subscriptable",
          "traceback": [
            "\u001b[0;31m---------------------------------------------------------------------------\u001b[0m",
            "\u001b[0;31mTypeError\u001b[0m                                 Traceback (most recent call last)",
            "\u001b[0;32m<ipython-input-32-9a9156a37c17>\u001b[0m in \u001b[0;36m<cell line: 0>\u001b[0;34m()\u001b[0m\n\u001b[1;32m      7\u001b[0m \u001b[0mprint\u001b[0m\u001b[0;34m(\u001b[0m\u001b[0ms\u001b[0m\u001b[0;34m)\u001b[0m\u001b[0;34m\u001b[0m\u001b[0;34m\u001b[0m\u001b[0m\n\u001b[1;32m      8\u001b[0m \u001b[0;34m\u001b[0m\u001b[0m\n\u001b[0;32m----> 9\u001b[0;31m \u001b[0mset1\u001b[0m\u001b[0;34m[\u001b[0m\u001b[0;36m0\u001b[0m\u001b[0;34m]\u001b[0m\u001b[0;34m\u001b[0m\u001b[0;34m\u001b[0m\u001b[0m\n\u001b[0m",
            "\u001b[0;31mTypeError\u001b[0m: 'set' object is not subscriptable"
          ]
        }
      ]
    }
  ]
}